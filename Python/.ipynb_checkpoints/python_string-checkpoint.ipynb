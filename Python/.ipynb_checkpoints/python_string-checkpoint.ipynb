{
 "cells": [
  {
   "cell_type": "markdown",
   "metadata": {},
   "source": [
    "Reference: [Using % and .format() for great good!](https://pyformat.info/)"
   ]
  },
  {
   "cell_type": "markdown",
   "metadata": {},
   "source": [
    "## 1. Basic formatting\n",
    "Simple positional formatting is probably the most common use-case. \n",
    "With new style formatting it is possible to given placeholders an \n",
    "explicit positional index."
   ]
  },
  {
   "cell_type": "code",
   "execution_count": 2,
   "metadata": {
    "pycharm": {
     "name": "#%%\n"
    }
   },
   "outputs": [
    {
     "data": {
      "text/plain": [
       "'two one'"
      ]
     },
     "execution_count": 2,
     "metadata": {},
     "output_type": "execute_result"
    }
   ],
   "source": [
    "# Old style\n",
    "'%s %s' % ('one', 'two')\n",
    "'%d %d' % (1, 2)\n",
    "\n",
    "# New style\n",
    "'{} {}'.format('one', 'two')\n",
    "'{} {}'.format(1, 2)\n",
    "'{1} {0}'.format('one', 'two')"
   ]
  },
  {
   "cell_type": "markdown",
   "metadata": {},
   "source": [
    "## 2. Padding and aligning strings\n",
    "By default values are formatted to take up only as many characters as \n",
    "needed to represent the content. It is however also possible to define\n",
    "that a value should be padded to a specific length.\n",
    "New style formatting surpasses the old variant by providing more \n",
    "control over how values are padded and aligned.\n",
    "When using center alignment where the length of the string leads to an\n",
    "uneven split of the padding characters the extra character will be \n",
    "placed on the right."
   ]
  },
  {
   "cell_type": "code",
   "execution_count": 11,
   "metadata": {},
   "outputs": [
    {
     "name": "stdout",
     "output_type": "stream",
     "text": [
      "Old style:\n",
      "      test\n",
      "test      \n",
      "New style:\n",
      "      test\n",
      "test      \n",
      "test      \n",
      "test______\n",
      "___test___\n"
     ]
    }
   ],
   "source": [
    "# Old style\n",
    "print(\"Old style:\")\n",
    "print('%10s' % ('test',))\n",
    "print('%-10s' % ('test',))  # Align left\n",
    "\n",
    "# New style\n",
    "print(\"New style:\")\n",
    "print('{:>10}'.format('test'))  # align right\n",
    "print('{:10}'.format('test'))   # align left\n",
    "print('{:<10}'.format('test'))   # align left\n",
    "print('{:_<10}'.format('test')) # align left and pad with `_`\n",
    "print('{:_^10}'.format('test'))  # center align"
   ]
  },
  {
   "cell_type": "markdown",
   "metadata": {},
   "source": [
    "## 3. Truncating long strings\n",
    "Inverse to padding it is also possible to truncate overly long values \n",
    "to a specific number of characters.\n",
    "The number behind a `'.'` in the format specifies the precision of the\n",
    "output."
   ]
  },
  {
   "cell_type": "code",
   "execution_count": 12,
   "metadata": {},
   "outputs": [
    {
     "name": "stdout",
     "output_type": "stream",
     "text": [
      "xylop\n",
      "xylop\n"
     ]
    }
   ],
   "source": [
    "# Old style\n",
    "print('%.5s' % ('xylophone',))\n",
    "\n",
    "# New Style\n",
    "print('{:.5}'.format('xylophone'))"
   ]
  },
  {
   "cell_type": "markdown",
   "metadata": {},
   "source": [
    "## 4. Combining truncating and padding\n",
    "It is also possible to combine **truncating** and **padding**."
   ]
  },
  {
   "cell_type": "code",
   "execution_count": 16,
   "metadata": {},
   "outputs": [
    {
     "name": "stdout",
     "output_type": "stream",
     "text": [
      "xylop     \n",
      "xylop     \n"
     ]
    }
   ],
   "source": [
    "# old style\n",
    "print('%-10.5s' % (\"xylophone\"))\n",
    "\n",
    "# New style\n",
    "print(\"{:10.5}\".format('xylophone'))"
   ]
  },
  {
   "cell_type": "markdown",
   "metadata": {},
   "source": [
    "## 5. Numbers\n",
    "Format numbers"
   ]
  },
  {
   "cell_type": "code",
   "execution_count": 17,
   "metadata": {},
   "outputs": [
    {
     "name": "stdout",
     "output_type": "stream",
     "text": [
      "42\n",
      "3.141593\n",
      "42\n",
      "3.141593\n"
     ]
    }
   ],
   "source": [
    "# Old style\n",
    "print('%d' % (42,))\n",
    "print('%f' % (3.141592653589793,))\n",
    "\n",
    "# New style\n",
    "print('{:d}'.format(42))\n",
    "print('{:f}'.format(3.141592653589793))"
   ]
  },
  {
   "cell_type": "markdown",
   "metadata": {},
   "source": [
    "## 6. Padding numbers\n",
    "Similar to strings numbers can also be constrained to a specific width.\n",
    "Similar to truncating strings the precision for floating point numbers\n",
    "limits the number of positions after the decimal point. \n",
    "For integer values providing a precision doesn't make much sense and is actually forbidden in the new style (it will result in a ValueError). 对于整数值，提供精度没有多大意义，实际上在新样式中是被禁止的（这将导致ValueError）。"
   ]
  },
  {
   "cell_type": "code",
   "execution_count": 19,
   "metadata": {},
   "outputs": [
    {
     "name": "stdout",
     "output_type": "stream",
     "text": [
      "  42\n",
      "  42\n",
      "0042\n",
      "0042\n"
     ]
    }
   ],
   "source": [
    "# Old style\n",
    "print('%4d' % (42,))\n",
    "\n",
    "# New style\n",
    "print('{:4d}'.format(42))\n",
    "\n",
    "# New style with integer, raise a ValueError\n",
    "print('%04d' % (42,))\n",
    "print('{:04d}'.format(42))"
   ]
  },
  {
   "cell_type": "markdown",
   "metadata": {},
   "source": [
    "## 7. Signed numbers\n",
    "By default only negative numbers are prefixed with a sign. This can be changed of course. 默认情况下，只有负数有符号。但是这是可以调整的。\n",
    "Use a space character to indicate that negative numbers should be prefixed with a minus symbol and a leading space should be used for positive ones.\n",
    "New style formatting is also able to control the position of the sign symbol relative to the padding."
   ]
  },
  {
   "cell_type": "code",
   "execution_count": 20,
   "metadata": {},
   "outputs": [
    {
     "name": "stdout",
     "output_type": "stream",
     "text": [
      "+42\n",
      "-23\n",
      " 42\n",
      "+42\n",
      "-23\n",
      " 42\n",
      "-  23\n",
      "+  23\n"
     ]
    }
   ],
   "source": [
    "# Old style\n",
    "print('%+d' % (42,))\n",
    "print('% d' % ((- 23),))\n",
    "print('% d' % (42,))\n",
    "\n",
    "# New style\n",
    "print('{:+d}'.format(42))\n",
    "print('{: d}'.format((- 23)))\n",
    "print('{: d}'.format(42))\n",
    "\n",
    "print('{:=5d}'.format((- 23)))\n",
    "print('{:=+5d}'.format(23))"
   ]
  },
  {
   "cell_type": "markdown",
   "metadata": {},
   "source": [
    "## 8. Named placeholders\n",
    "Both formatting styles support named placeholders.\n",
    "\n",
    "`.format()` also accepts keyword arguments."
   ]
  },
  {
   "cell_type": "code",
   "execution_count": 24,
   "metadata": {},
   "outputs": [
    {
     "name": "stdout",
     "output_type": "stream",
     "text": [
      "Hodor Hodor!\n",
      "Hodor Hodor!\n",
      "Hodor Hodor!\n"
     ]
    }
   ],
   "source": [
    "# Setup\n",
    "data = {'first': 'Hodor', 'last': 'Hodor!'}\n",
    "\n",
    "# Old style\n",
    "print('%(first)s %(last)s' % data)\n",
    "\n",
    "# New style\n",
    "print('{first} {last}'.format(**data))\n",
    "print('{first} {last}'.format(first='Hodor', last='Hodor!'))"
   ]
  },
  {
   "cell_type": "markdown",
   "metadata": {},
   "source": [
    "## 9. Getitem and Getattr\n",
    "New style formatting allows even greater flexibility in accessing nested data structures.\n",
    "\n",
    "It supports accessing containers that support `__getitem__` like for example dictionaries and lists:"
   ]
  },
  {
   "cell_type": "code",
   "execution_count": 25,
   "metadata": {},
   "outputs": [
    {
     "name": "stdout",
     "output_type": "stream",
     "text": [
      "Jean-Luc Picard\n"
     ]
    }
   ],
   "source": [
    "person = {'first': 'Jean-Luc', 'last': 'Picard'}\n",
    "\n",
    "# Old style\n",
    "\n",
    "# New style\n",
    "print('{p[first]} {p[last]}'.format(p=person))"
   ]
  },
  {
   "cell_type": "code",
   "execution_count": 26,
   "metadata": {},
   "outputs": [
    {
     "name": "stdout",
     "output_type": "stream",
     "text": [
      "23 42\n"
     ]
    }
   ],
   "source": [
    "data = [4, 8, 15, 16, 23, 42]\n",
    "\n",
    "# Old style\n",
    "\n",
    "# New style\n",
    "print('{d[4]} {d[5]}'.format(d=data))"
   ]
  },
  {
   "cell_type": "markdown",
   "metadata": {},
   "source": [
    "As well as accessing attributes on objects via getattr():"
   ]
  },
  {
   "cell_type": "code",
   "execution_count": 27,
   "metadata": {},
   "outputs": [],
   "source": [
    "class Plant(object):\n",
    "    type = 'tree'"
   ]
  },
  {
   "cell_type": "code",
   "execution_count": 28,
   "metadata": {},
   "outputs": [
    {
     "name": "stdout",
     "output_type": "stream",
     "text": [
      "tree\n"
     ]
    }
   ],
   "source": [
    "print('{p.type}'.format(p=Plant()))"
   ]
  },
  {
   "cell_type": "code",
   "execution_count": 29,
   "metadata": {},
   "outputs": [],
   "source": [
    "class Plant(object):\n",
    "    type = 'tree'\n",
    "    kinds = [{'name': 'oak'}, {'name': 'maple'}]"
   ]
  },
  {
   "cell_type": "code",
   "execution_count": 30,
   "metadata": {},
   "outputs": [
    {
     "name": "stdout",
     "output_type": "stream",
     "text": [
      "tree: oak\n"
     ]
    }
   ],
   "source": [
    "print('{p.type}: {p.kinds[0][name]}'.format(p=Plant()))"
   ]
  },
  {
   "cell_type": "markdown",
   "metadata": {},
   "source": [
    "## 10. Datetime\n",
    "New style formatting also allows objects to control their own rendering. This for example allows datetime objects to be formatted inline:"
   ]
  },
  {
   "cell_type": "code",
   "execution_count": 31,
   "metadata": {},
   "outputs": [
    {
     "name": "stdout",
     "output_type": "stream",
     "text": [
      "2001-02-03 04:05\n"
     ]
    }
   ],
   "source": [
    "from datetime import datetime\n",
    "print('{:%Y-%m-%d %H:%M}'.format(datetime(2001, 2, 3, 4, 5)))"
   ]
  },
  {
   "cell_type": "markdown",
   "metadata": {},
   "source": [
    "## 11. Parametrized formats\n",
    "Additionally, new style formatting allows all of the components of the\n",
    "format to be specified dynamically using parametrization. Parametrized\n",
    "formats are nested expressions in braces that can appear anywhere in \n",
    "the parent format after the colon."
   ]
  },
  {
   "cell_type": "code",
   "execution_count": 41,
   "metadata": {},
   "outputs": [
    {
     "name": "stdout",
     "output_type": "stream",
     "text": [
      "Gib = 2.718\n",
      " 2.72\n",
      "   test   \n",
      "Gib = 2.718\n",
      " 2.72\n",
      "Gib = 2.72\n",
      "     +2.72\n",
      "     +2.72\n"
     ]
    }
   ],
   "source": [
    "# Old style\n",
    "print('%.*s = %.*f' % (3, 'Gibberish', 3, 2.7182))\n",
    "print('%*.*f' % (5, 2, 2.7182))\n",
    "\n",
    "# New style\n",
    "print('{:{align}{width}}'.format('test', align='^', width='10'))\n",
    "print('{:.{prec}} = {:.{prec}f}'.format('Gibberish', 2.7182, prec=3))\n",
    "print('{:{width}.{prec}f}'.format(2.7182, width=5, prec=2))\n",
    "print('{:{prec}} = {:{prec}}'.format('Gibberish', 2.7182, prec='.3'))\n",
    "print('{:{}{}{}.{}}'.format(2.7182818284, '>', '+', 10, 3))\n",
    "print('{:{}{sign}{}.{}}'.format(2.7182818284, '>', 10, 3, sign='+'))"
   ]
  },
  {
   "cell_type": "code",
   "execution_count": 39,
   "metadata": {},
   "outputs": [
    {
     "name": "stdout",
     "output_type": "stream",
     "text": [
      "2001-02-03 04:05\n",
      "     +2.72\n"
     ]
    }
   ],
   "source": [
    "from datetime import datetime\n",
    "dt = datetime(2001, 2, 3, 4, 5)\n",
    "print('{:{dfmt} {tfmt}}'.format(dt, dfmt='%Y-%m-%d', tfmt='%H:%M'))"
   ]
  },
  {
   "cell_type": "markdown",
   "metadata": {},
   "source": [
    "## 12. Custom objects\n",
    "The datetime example works through the use of the `__format__()` magic method. You can define custom format handling in your own objects by overriding this method. This gives you complete control over the format syntax used."
   ]
  },
  {
   "cell_type": "code",
   "execution_count": 42,
   "metadata": {},
   "outputs": [],
   "source": [
    "class HAL9000(object):\n",
    "\n",
    "    def __format__(self, format):\n",
    "        if (format == 'open-the-pod-bay-doors'):\n",
    "            return \"I'm afraid I can't do that.\"\n",
    "        return 'HAL 9000'"
   ]
  },
  {
   "cell_type": "code",
   "execution_count": 43,
   "metadata": {},
   "outputs": [
    {
     "name": "stdout",
     "output_type": "stream",
     "text": [
      "I'm afraid I can't do that.\n"
     ]
    }
   ],
   "source": [
    "print('{:open-the-pod-bay-doors}'.format(HAL9000()))"
   ]
  },
  {
   "cell_type": "code",
   "execution_count": null,
   "metadata": {},
   "outputs": [],
   "source": []
  }
 ],
 "metadata": {
  "kernelspec": {
   "display_name": "Python 3",
   "language": "python",
   "name": "python3"
  },
  "language_info": {
   "codemirror_mode": {
    "name": "ipython",
    "version": 3
   },
   "file_extension": ".py",
   "mimetype": "text/x-python",
   "name": "python",
   "nbconvert_exporter": "python",
   "pygments_lexer": "ipython3",
   "version": "3.8.5"
  }
 },
 "nbformat": 4,
 "nbformat_minor": 1
}
